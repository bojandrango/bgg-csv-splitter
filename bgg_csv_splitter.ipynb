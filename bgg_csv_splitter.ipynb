{
 "cells": [
  {
   "cell_type": "markdown",
   "metadata": {},
   "source": [
    "# BoardGameGeek CSV file splitter\n",
    "\n",
    "Previously I have made a BoardGameGeek fetcher script, that will pull all of the BGG items data from their API and store it as a single CSV file. However I realized that, later on, it would may be problematic to work with a single file, especially for the reason that `categories`, `mechanics`, `designers`, `artists` and `publishers` columns contain multiple values for each column that are comma separated, instead being in their own entry. Therefore this script will use the existing CSV file that I have collected with the previous script, and based on this, it will split the data into multiple CSV files that can be later imported as a separate tables in a database. For instance, `items.csv` will contain the main data for every item that was fetched, where `categories.csv`, `mechanics.csv`, `desginers.csv`, `artists.csv` and `publishers.csv` will contain the additional data for its respective type which is in turn related to a particular item from `items.csv`. With this, I beilieve it will be much easier to join, manipulate and process this data later in the process.\n",
    "\n",
    "As a first step - defining of the imports that are required for this script:"
   ]
  },
  {
   "cell_type": "code",
   "execution_count": 1,
   "metadata": {},
   "outputs": [],
   "source": [
    "# Define imports\n",
    "import pandas as pd\n",
    "from csv import DictWriter"
   ]
  },
  {
   "cell_type": "markdown",
   "metadata": {},
   "source": [
    "Next will be the the creation of a function through which the output will be stored as a CSV file(s):"
   ]
  },
  {
   "cell_type": "code",
   "execution_count": null,
   "metadata": {},
   "outputs": [],
   "source": [
    "# Function for saving results to CSV files\n",
    "def save_to_csv(csv_file_name, csv_header, items):\n",
    "    with open(csv_file_name, 'a', encoding='UTF8') as f:\n",
    "        dictwriter_object = DictWriter(f, fieldnames=csv_header)\n",
    "        if f.tell() == 0:\n",
    "            dictwriter_object.writeheader()\n",
    "        dictwriter_object.writerows(items)"
   ]
  },
  {
   "cell_type": "markdown",
   "metadata": {},
   "source": [
    "And right below is the main logic for this script, where the data from the initial CSV file is getting processed and split into different CSV files:"
   ]
  },
  {
   "cell_type": "code",
   "execution_count": null,
   "metadata": {},
   "outputs": [],
   "source": [
    "# Read the existing CSV file\n",
    "df = pd.read_csv('./bgg.csv')\n",
    "\n",
    "# Define an empty list that will contain all of the items\n",
    "items_list = []\n",
    "\n",
    "# Process every row in the DataFrame\n",
    "for index, row in df.iterrows():\n",
    "    # First define values for each row's columns and append these to items_list\n",
    "    item = {\n",
    "        \"name\": row['name'],\n",
    "        \"game_id\": row['game_id'],\n",
    "        \"type\": row['type'],\n",
    "        \"rating\": row['rating'],\n",
    "        \"weight\": row['weight'],\n",
    "        \"year_published\": row['year_published'],\n",
    "        \"min_players\": row['min_players'],\n",
    "        \"max_players\": row['max_players'],\n",
    "        \"min_play_time\": row['min_play_time'],\n",
    "        \"max_play_time\": row['max_play_time'],\n",
    "        \"min_age\": row['min_age'],\n",
    "        \"owned_by\": row['owned_by']\n",
    "    }\n",
    "    items_list.append(item)\n",
    "    \n",
    "    # Split the string value for each of the following columns in order to create\n",
    "    # a list of items out of it, based on comma delimiter. Each comma separated value will\n",
    "    # be an item in the appropriate column's list. Append the results to their own adequate CSV file.\n",
    "    additional_columns = ['categories', 'mechanics', 'designers', 'artists', 'publishers']\n",
    "    for column in additional_columns:\n",
    "        column_list = row[column].split(', ')\n",
    "        col_header = ['game_id', column]\n",
    "        for item in column_list:\n",
    "            item_list = {\"game_id\": row['game_id'], column: item}\n",
    "            save_to_csv(f\"{column}.csv\", col_header, [item_list])\n",
    "    \n",
    "# Define main items header and store the main items to a CSV file.   \n",
    "items_header = [\n",
    "    'name', 'game_id', 'type', 'rating', 'weight', 'year_published', 'min_players', 'max_players',\n",
    "    'min_play_time', 'max_play_time', 'min_age', 'owned_by'\n",
    "]\n",
    "    \n",
    "save_to_csv(\"items.csv\", items_header, items_list)"
   ]
  }
 ],
 "metadata": {
  "kernelspec": {
   "display_name": "Python 3",
   "language": "python",
   "name": "python3"
  },
  "language_info": {
   "codemirror_mode": {
    "name": "ipython",
    "version": 3
   },
   "file_extension": ".py",
   "mimetype": "text/x-python",
   "name": "python",
   "nbconvert_exporter": "python",
   "pygments_lexer": "ipython3",
   "version": "3.9.0"
  },
  "orig_nbformat": 4
 },
 "nbformat": 4,
 "nbformat_minor": 2
}
